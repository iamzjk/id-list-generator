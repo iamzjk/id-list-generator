{
 "cells": [
  {
   "cell_type": "code",
   "execution_count": 1,
   "metadata": {
    "collapsed": false
   },
   "outputs": [],
   "source": [
    "#coding: utf-8\n",
    "import datetime as dt\n",
    "import pandas as pd\n",
    "import numpy as np\n",
    "import os\n",
    "\n",
    "from reportlab.lib.pagesizes import letter\n",
    "from reportlab.pdfgen import canvas\n",
    "\n",
    "from reportlab.pdfbase import pdfmetrics\n",
    "from reportlab.pdfbase.cidfonts import UnicodeCIDFont  \n",
    "from reportlab.platypus import SimpleDocTemplate, Paragraph, Spacer, Image, PageBreak\n",
    "from reportlab.lib.styles import getSampleStyleSheet, ParagraphStyle\n",
    "\n",
    "from reportlab.lib.units import inch\n",
    "from reportlab.lib import fonts,colors\n",
    "from reportlab.pdfbase.ttfonts import TTFont"
   ]
  },
  {
   "cell_type": "code",
   "execution_count": 2,
   "metadata": {
    "collapsed": false
   },
   "outputs": [
    {
     "data": {
      "text/plain": [
       "'/Users/jingkun/Dropbox/DG/id-list-generator'"
      ]
     },
     "execution_count": 2,
     "metadata": {},
     "output_type": "execute_result"
    }
   ],
   "source": [
    "cwd = os.getcwd()\n",
    "cwd"
   ]
  },
  {
   "cell_type": "code",
   "execution_count": 3,
   "metadata": {
    "collapsed": false
   },
   "outputs": [],
   "source": [
    "date_today = dt.date.today().strftime(\"%m-%d-%Y\")\n",
    "inputXLSX = date_today + \"_shipping-list.xlsx\"\n",
    "outputPDF = date_today + \"_usatocn2013_YU_身份证.pdf\""
   ]
  },
  {
   "cell_type": "code",
   "execution_count": 9,
   "metadata": {
    "collapsed": false
   },
   "outputs": [
    {
     "name": "stdout",
     "output_type": "stream",
     "text": [
      "09-04-2016一共有11个包裹\n"
     ]
    },
    {
     "data": {
      "text/html": [
       "<div>\n",
       "<table border=\"1\" class=\"dataframe\">\n",
       "  <thead>\n",
       "    <tr style=\"text-align: right;\">\n",
       "      <th></th>\n",
       "      <th>制单时间</th>\n",
       "      <th>运单号</th>\n",
       "      <th>收件人</th>\n",
       "    </tr>\n",
       "  </thead>\n",
       "  <tbody>\n",
       "    <tr>\n",
       "      <th>0</th>\n",
       "      <td>2016-08-29 07:20:37</td>\n",
       "      <td>8000091549</td>\n",
       "      <td>屠丹青</td>\n",
       "    </tr>\n",
       "    <tr>\n",
       "      <th>1</th>\n",
       "      <td>2016-08-29 07:17:29</td>\n",
       "      <td>8000091548</td>\n",
       "      <td>朱宇波</td>\n",
       "    </tr>\n",
       "    <tr>\n",
       "      <th>2</th>\n",
       "      <td>2016-08-29 07:08:45</td>\n",
       "      <td>8000091545</td>\n",
       "      <td>张凯帅</td>\n",
       "    </tr>\n",
       "    <tr>\n",
       "      <th>3</th>\n",
       "      <td>2016-08-26 09:17:43</td>\n",
       "      <td>8000091367</td>\n",
       "      <td>乐芳丽</td>\n",
       "    </tr>\n",
       "    <tr>\n",
       "      <th>4</th>\n",
       "      <td>2016-08-26 08:58:20</td>\n",
       "      <td>8000091364</td>\n",
       "      <td>刘松娟</td>\n",
       "    </tr>\n",
       "    <tr>\n",
       "      <th>5</th>\n",
       "      <td>2016-08-26 08:56:55</td>\n",
       "      <td>8000091363</td>\n",
       "      <td>乐芳丽</td>\n",
       "    </tr>\n",
       "    <tr>\n",
       "      <th>6</th>\n",
       "      <td>2016-08-26 08:53:40</td>\n",
       "      <td>8000091362</td>\n",
       "      <td>梁冬梅</td>\n",
       "    </tr>\n",
       "    <tr>\n",
       "      <th>7</th>\n",
       "      <td>2016-08-26 08:52:34</td>\n",
       "      <td>8000091361</td>\n",
       "      <td>李翠军</td>\n",
       "    </tr>\n",
       "    <tr>\n",
       "      <th>8</th>\n",
       "      <td>2016-08-26 08:50:54</td>\n",
       "      <td>8000091360</td>\n",
       "      <td>王文杰</td>\n",
       "    </tr>\n",
       "    <tr>\n",
       "      <th>9</th>\n",
       "      <td>2016-08-26 08:50:38</td>\n",
       "      <td>8000091359</td>\n",
       "      <td>王文杰</td>\n",
       "    </tr>\n",
       "    <tr>\n",
       "      <th>10</th>\n",
       "      <td>2016-08-26 08:47:15</td>\n",
       "      <td>8000091358</td>\n",
       "      <td>杨昌旭</td>\n",
       "    </tr>\n",
       "  </tbody>\n",
       "</table>\n",
       "</div>"
      ],
      "text/plain": [
       "                  制单时间         运单号  收件人\n",
       "0  2016-08-29 07:20:37  8000091549  屠丹青\n",
       "1  2016-08-29 07:17:29  8000091548  朱宇波\n",
       "2  2016-08-29 07:08:45  8000091545  张凯帅\n",
       "3  2016-08-26 09:17:43  8000091367  乐芳丽\n",
       "4  2016-08-26 08:58:20  8000091364  刘松娟\n",
       "5  2016-08-26 08:56:55  8000091363  乐芳丽\n",
       "6  2016-08-26 08:53:40  8000091362  梁冬梅\n",
       "7  2016-08-26 08:52:34  8000091361  李翠军\n",
       "8  2016-08-26 08:50:54  8000091360  王文杰\n",
       "9  2016-08-26 08:50:38  8000091359  王文杰\n",
       "10 2016-08-26 08:47:15  8000091358  杨昌旭"
      ]
     },
     "execution_count": 9,
     "metadata": {},
     "output_type": "execute_result"
    }
   ],
   "source": [
    "df_shipList = pd.read_excel(inputXLSX)\n",
    "df_shipList = df_shipList[[u\"制单时间\",u\"运单号\",u\"收件人\"]]\n",
    "print \"%s一共有%s个包裹\"%(date_today,len(df_shipList))\n",
    "df_shipList"
   ]
  },
  {
   "cell_type": "code",
   "execution_count": 13,
   "metadata": {
    "collapsed": false
   },
   "outputs": [
    {
     "data": {
      "text/html": [
       "<div>\n",
       "<table border=\"1\" class=\"dataframe\">\n",
       "  <thead>\n",
       "    <tr style=\"text-align: right;\">\n",
       "      <th></th>\n",
       "      <th>制单时间</th>\n",
       "      <th>运单号</th>\n",
       "      <th>收件人</th>\n",
       "    </tr>\n",
       "  </thead>\n",
       "  <tbody>\n",
       "    <tr>\n",
       "      <th>0</th>\n",
       "      <td>2016-08-29 07:20:37</td>\n",
       "      <td>8000091549</td>\n",
       "      <td>屠丹青</td>\n",
       "    </tr>\n",
       "    <tr>\n",
       "      <th>1</th>\n",
       "      <td>2016-08-29 07:17:29</td>\n",
       "      <td>8000091548</td>\n",
       "      <td>朱宇波</td>\n",
       "    </tr>\n",
       "    <tr>\n",
       "      <th>2</th>\n",
       "      <td>2016-08-29 07:08:45</td>\n",
       "      <td>8000091545</td>\n",
       "      <td>张凯帅</td>\n",
       "    </tr>\n",
       "    <tr>\n",
       "      <th>3</th>\n",
       "      <td>2016-08-26 09:17:43</td>\n",
       "      <td>8000091367</td>\n",
       "      <td>乐芳丽</td>\n",
       "    </tr>\n",
       "    <tr>\n",
       "      <th>4</th>\n",
       "      <td>2016-08-26 08:58:20</td>\n",
       "      <td>8000091364</td>\n",
       "      <td>刘松娟</td>\n",
       "    </tr>\n",
       "    <tr>\n",
       "      <th>6</th>\n",
       "      <td>2016-08-26 08:53:40</td>\n",
       "      <td>8000091362</td>\n",
       "      <td>梁冬梅</td>\n",
       "    </tr>\n",
       "    <tr>\n",
       "      <th>7</th>\n",
       "      <td>2016-08-26 08:52:34</td>\n",
       "      <td>8000091361</td>\n",
       "      <td>李翠军</td>\n",
       "    </tr>\n",
       "    <tr>\n",
       "      <th>8</th>\n",
       "      <td>2016-08-26 08:50:54</td>\n",
       "      <td>8000091360</td>\n",
       "      <td>王文杰</td>\n",
       "    </tr>\n",
       "    <tr>\n",
       "      <th>10</th>\n",
       "      <td>2016-08-26 08:47:15</td>\n",
       "      <td>8000091358</td>\n",
       "      <td>杨昌旭</td>\n",
       "    </tr>\n",
       "  </tbody>\n",
       "</table>\n",
       "</div>"
      ],
      "text/plain": [
       "                  制单时间         运单号  收件人\n",
       "0  2016-08-29 07:20:37  8000091549  屠丹青\n",
       "1  2016-08-29 07:17:29  8000091548  朱宇波\n",
       "2  2016-08-29 07:08:45  8000091545  张凯帅\n",
       "3  2016-08-26 09:17:43  8000091367  乐芳丽\n",
       "4  2016-08-26 08:58:20  8000091364  刘松娟\n",
       "6  2016-08-26 08:53:40  8000091362  梁冬梅\n",
       "7  2016-08-26 08:52:34  8000091361  李翠军\n",
       "8  2016-08-26 08:50:54  8000091360  王文杰\n",
       "10 2016-08-26 08:47:15  8000091358  杨昌旭"
      ]
     },
     "execution_count": 13,
     "metadata": {},
     "output_type": "execute_result"
    }
   ],
   "source": [
    "df_shipList = df_shipList.drop_duplicates(subset = u\"收件人\", keep = \"first\")\n",
    "df_shipList"
   ]
  },
  {
   "cell_type": "code",
   "execution_count": 14,
   "metadata": {
    "collapsed": false,
    "scrolled": false
   },
   "outputs": [
    {
     "name": "stdout",
     "output_type": "stream",
     "text": [
      "\n",
      "一共9个运单，其中0个没有身份证\n",
      "生成文件已经保存到 /Users/jingkun/Dropbox/DG/id-list-generator 目录下面\n",
      "文件名为 09-04-2016_usatocn2013_YU_身份证.pdf\n",
      "\n",
      "PS:\n",
      "请把缺失的身份证图片添加到/Users/jingkun/Dropbox/DG/id-list-generator/photo-id 目录下面\n",
      "如果正反面在同一张图片上，命名为 姓名.jpg\n",
      "如果正反面分两张图片，命名为 姓名1.jpg 和 姓名2.jpg\n"
     ]
    }
   ],
   "source": [
    "pdfmetrics.registerFont(TTFont(\"haha\", \"simsun.ttc\"))\n",
    "\n",
    "c3 = SimpleDocTemplate(outputPDF,pagesize=letter, rightMargin=72,leftMargin=72, topMargin=72,bottomMargin=18)\n",
    "c3.fontName   = \"haha\"\n",
    "c3.fontSize   = 12\n",
    "\n",
    "idList = []\n",
    "#missingID = []\n",
    "missingN = 0\n",
    "\n",
    "styles=getSampleStyleSheet()\n",
    "\n",
    "\n",
    "for n in range(len(df_shipList)):\n",
    "    # print tracking number\n",
    "    tracking = str(df_shipList[n:n+1][u\"运单号\"].iloc[0])\n",
    "    \n",
    "    \n",
    "    # print name\n",
    "    #name = str(df_shipList[n:n+1][\"name\"].iloc[0].encode('utf-8'))\n",
    "    #idList.append(Paragraph(u\"刘女士\",styles[\"Normal\"]))\n",
    "    \n",
    "    # print photo-id\n",
    "    try:\n",
    "        id_0 = \"./photo-id/\" + df_shipList[n:n+1][u\"收件人\"].iloc[0].encode('utf-8') + \".jpg\"\n",
    "        im_0 = Image(id_0, 4*inch, 6*inch, kind='proportional')\n",
    "        idList.append(Paragraph(tracking,styles[\"Normal\"]))\n",
    "        idList.append(im_0)\n",
    "        idList.append(PageBreak())\n",
    "    except IOError:\n",
    "        try:\n",
    "            id_1 = \"./photo-id/\" + df_shipList[n:n+1][u\"收件人\"].iloc[0].encode('utf-8') + \"1.jpg\"\n",
    "            im_1 = Image(id_1, 4*inch, 4*inch, kind='proportional')\n",
    "            im_1True = True\n",
    "        except IOError:\n",
    "#            missingID.append(id_1)\n",
    "            im_1True = False\n",
    "#            idList.append(Paragraph(\"Photo ID not available\", styles[\"Normal\"]))\n",
    "            print id_1[11:-5] + '\\t' + \"正面\" + ' ' + \"身份证没有找到\"\n",
    "            missingN += 1\n",
    "            \n",
    "        if im_1True is True:\n",
    "            idList.append(Paragraph(tracking,styles[\"Normal\"]))\n",
    "            idList.append(im_1)\n",
    "            idList.append(Spacer(1,12))\n",
    "            try:\n",
    "                id_2 = \"./photo-id/\" + df_shipList[n:n+1][u\"收件人\"].iloc[0].encode('utf-8') + \"2.jpg\"\n",
    "                im_2 = Image(id_2, 4*inch, 4*inch, kind='proportional')\n",
    "                idList.append(im_2)\n",
    "                im_2True = True\n",
    "            except IOError:\n",
    "                im_2True = False\n",
    "                print id_1[11:-5] + '\\t' + \"背面\" + ' ' + \"身份证没有找到\"\n",
    "                missingN += 1\n",
    "            idList.append(PageBreak())\n",
    "print\n",
    "print \"一共%s个运单，其中%s个没有身份证\"%(n+1,missingN)\n",
    "print \"生成文件已经保存到 \" + cwd + \" 目录下面\"\n",
    "print \"文件名为 \" + outputPDF\n",
    "            \n",
    "print\n",
    "print \"PS:\"\n",
    "print \"请把缺失的身份证图片添加到\" + cwd + \"/photo-id 目录下面\"\n",
    "print \"如果正反面在同一张图片上，命名为 姓名.jpg\"\n",
    "print \"如果正反面分两张图片，命名为 姓名1.jpg 和 姓名2.jpg\"\n",
    "\n",
    "    \n",
    "\n",
    "c3.build(idList)\n",
    "#missingID"
   ]
  },
  {
   "cell_type": "code",
   "execution_count": null,
   "metadata": {
    "collapsed": true
   },
   "outputs": [],
   "source": []
  }
 ],
 "metadata": {
  "kernelspec": {
   "display_name": "Python 2",
   "language": "python",
   "name": "python2"
  },
  "language_info": {
   "codemirror_mode": {
    "name": "ipython",
    "version": 2
   },
   "file_extension": ".py",
   "mimetype": "text/x-python",
   "name": "python",
   "nbconvert_exporter": "python",
   "pygments_lexer": "ipython2",
   "version": "2.7.12"
  }
 },
 "nbformat": 4,
 "nbformat_minor": 0
}
