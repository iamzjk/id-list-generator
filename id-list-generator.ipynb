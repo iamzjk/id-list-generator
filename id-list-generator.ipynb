{
 "cells": [
  {
   "cell_type": "code",
   "execution_count": 9,
   "metadata": {
    "collapsed": false
   },
   "outputs": [],
   "source": [
    "#coding: utf-8\n",
    "import datetime as dt\n",
    "import pandas as pd\n",
    "import numpy as np\n",
    "import os\n",
    "\n",
    "from reportlab.lib.pagesizes import letter\n",
    "from reportlab.pdfgen import canvas\n",
    "\n",
    "from reportlab.pdfbase import pdfmetrics\n",
    "from reportlab.pdfbase.cidfonts import UnicodeCIDFont  \n",
    "from reportlab.platypus import SimpleDocTemplate, Paragraph, Spacer, Image, PageBreak\n",
    "from reportlab.lib.styles import getSampleStyleSheet, ParagraphStyle\n",
    "\n",
    "from reportlab.lib.units import inch\n",
    "from reportlab.lib import fonts,colors\n",
    "from reportlab.pdfbase.ttfonts import TTFont"
   ]
  },
  {
   "cell_type": "code",
   "execution_count": 10,
   "metadata": {
    "collapsed": false
   },
   "outputs": [
    {
     "data": {
      "text/plain": [
       "'/Users/jingkun/Dropbox/DG/id-list-generator'"
      ]
     },
     "execution_count": 10,
     "metadata": {},
     "output_type": "execute_result"
    }
   ],
   "source": [
    "cwd = os.getcwd()\n",
    "cwd"
   ]
  },
  {
   "cell_type": "code",
   "execution_count": 11,
   "metadata": {
    "collapsed": false
   },
   "outputs": [],
   "source": [
    "date_today = dt.date.today().strftime(\"%m-%d-%Y\")\n",
    "inputXLSX = date_today + \"_shipping-list.xlsx\"\n",
    "outputPDF = date_today + \"_usatocn2013_YU_身份证.pdf\""
   ]
  },
  {
   "cell_type": "code",
   "execution_count": 26,
   "metadata": {
    "collapsed": false
   },
   "outputs": [
    {
     "name": "stdout",
     "output_type": "stream",
     "text": [
      "09-13-2016一共有22个包裹\n",
      "                  制单时间         运单号  收件人\n",
      "0  2016-09-12 19:30:52  8000093495  胡磊菲\n",
      "1  2016-09-12 19:26:29  8000093493  贾政晴\n",
      "2  2016-09-12 19:21:07  8000093492  庄泾坤\n",
      "3  2016-09-12 19:08:53  8000093491  冯云儿\n",
      "4  2016-09-12 19:06:02  8000093490  余昕玲\n",
      "5  2016-09-12 19:00:23  8000093488  刘松娟\n",
      "6  2016-09-12 14:07:00  8000093468  高辰夏\n",
      "7  2016-09-12 10:07:09  8000093427   曾艳\n",
      "8  2016-09-12 10:03:56  8000093426  冯云儿\n",
      "9  2016-09-12 10:02:25  8000093425   胡冰\n",
      "10 2016-09-12 09:43:56  8000093424  丁霞呤\n",
      "11 2016-09-12 09:42:32  8000093423  厉伟平\n",
      "12 2016-09-12 19:23:32  8000093422   邵云\n",
      "13 2016-09-12 09:37:35  8000093421  闵迎辉\n",
      "14 2016-09-12 09:34:19  8000093419  王继民\n",
      "15 2016-09-08 19:02:26  8000093200  吴燕茹\n",
      "16 2016-09-08 18:33:56  8000093199  庄泾坤\n",
      "17 2016-09-08 08:09:33  8000093192  余昕玲\n",
      "18 2016-09-07 14:31:50  8000093115  潘清源\n",
      "19 2016-09-07 13:25:01  8000093113  余万立\n",
      "20 2016-09-07 13:24:11  8000093112  刘松娟\n",
      "21 2016-09-07 11:03:08  8000093083  潘武华\n"
     ]
    }
   ],
   "source": [
    "df_shipList = pd.read_excel(inputXLSX)\n",
    "df_shipList = df_shipList[[u\"制单时间\",u\"运单号\",u\"收件人\"]]\n",
    "n0 = len(df_shipList)\n",
    "print \"%s一共有%s个包裹\"%(date_today,n0)\n",
    "print df_shipList"
   ]
  },
  {
   "cell_type": "code",
   "execution_count": 27,
   "metadata": {
    "collapsed": false
   },
   "outputs": [
    {
     "name": "stdout",
     "output_type": "stream",
     "text": [
      "09-13-2016我们一共送了22个包裹\n",
      "当同一收件人有多个包裹时，身份证清单中只保留第一个包裹\n",
      "移除重名后，身份证清单中一共有18个包裹\n",
      "                  制单时间         运单号  收件人\n",
      "0  2016-09-12 19:30:52  8000093495  胡磊菲\n",
      "1  2016-09-12 19:26:29  8000093493  贾政晴\n",
      "2  2016-09-12 19:21:07  8000093492  庄泾坤\n",
      "3  2016-09-12 19:08:53  8000093491  冯云儿\n",
      "4  2016-09-12 19:06:02  8000093490  余昕玲\n",
      "5  2016-09-12 19:00:23  8000093488  刘松娟\n",
      "6  2016-09-12 14:07:00  8000093468  高辰夏\n",
      "7  2016-09-12 10:07:09  8000093427   曾艳\n",
      "9  2016-09-12 10:02:25  8000093425   胡冰\n",
      "10 2016-09-12 09:43:56  8000093424  丁霞呤\n",
      "11 2016-09-12 09:42:32  8000093423  厉伟平\n",
      "12 2016-09-12 19:23:32  8000093422   邵云\n",
      "13 2016-09-12 09:37:35  8000093421  闵迎辉\n",
      "14 2016-09-12 09:34:19  8000093419  王继民\n",
      "15 2016-09-08 19:02:26  8000093200  吴燕茹\n",
      "18 2016-09-07 14:31:50  8000093115  潘清源\n",
      "19 2016-09-07 13:25:01  8000093113  余万立\n",
      "21 2016-09-07 11:03:08  8000093083  潘武华\n"
     ]
    }
   ],
   "source": [
    "#当同一收件人有多个包裹时，只保留第一个包裹单号\n",
    "df_shipList = df_shipList.drop_duplicates(subset = u\"收件人\", keep = \"first\")\n",
    "print \"%s我们一共送了%s个包裹\"%(date_today,n0)\n",
    "print \"当同一收件人有多个包裹时，身份证清单中只保留第一个包裹\"\n",
    "print \"移除重名后，身份证清单中一共有%s个包裹\"%(len(df_shipList))\n",
    "print df_shipList"
   ]
  },
  {
   "cell_type": "code",
   "execution_count": 25,
   "metadata": {
    "collapsed": false,
    "scrolled": true
   },
   "outputs": [
    {
     "name": "stdout",
     "output_type": "stream",
     "text": [
      "胡磊菲\t正面 身份证没有找到\n",
      "贾政晴\t正面 身份证没有找到\n",
      "高辰夏\t正面 身份证没有找到\n",
      "曾艳\t正面 身份证没有找到\n",
      "胡冰\t正面 身份证没有找到\n",
      "丁霞呤\t正面 身份证没有找到\n",
      "厉伟平\t正面 身份证没有找到\n",
      "邵云\t正面 身份证没有找到\n",
      "闵迎辉\t正面 身份证没有找到\n",
      "王继民\t正面 身份证没有找到\n",
      "余万立\t背面 身份证没有找到\n",
      "\n",
      "一共18个运单，其中11个没有身份证\n",
      "生成文件已经保存到 /Users/jingkun/Dropbox/DG/id-list-generator 目录下面\n",
      "文件名为 09-13-2016_usatocn2013_YU_身份证.pdf\n",
      "\n",
      "PS:\n",
      "请把缺失的身份证图片添加到/Users/jingkun/Dropbox/DG/id-list-generator/photo-id 目录下面\n",
      "如果正反面在同一张图片上，命名为 姓名.jpg\n",
      "如果正反面分两张图片，命名为 姓名1.jpg 和 姓名2.jpg\n"
     ]
    }
   ],
   "source": [
    "#pdfmetrics.registerFont(TTFont(\"haha\", \"simsun.ttc\"))\n",
    "\n",
    "c3 = SimpleDocTemplate(outputPDF,pagesize=letter, rightMargin=72,leftMargin=72, topMargin=72,bottomMargin=18)\n",
    "#c3.fontName   = \"haha\"\n",
    "#c3.fontSize   = 12\n",
    "\n",
    "idList = []\n",
    "#missingID = []\n",
    "missingN = 0\n",
    "\n",
    "styles=getSampleStyleSheet()\n",
    "\n",
    "\n",
    "for n in range(len(df_shipList)):\n",
    "    # print tracking number\n",
    "    tracking = str(df_shipList[n:n+1][u\"运单号\"].iloc[0])\n",
    "    \n",
    "    \n",
    "    # print name\n",
    "    #name = str(df_shipList[n:n+1][\"name\"].iloc[0].encode('utf-8'))\n",
    "    #idList.append(Paragraph(u\"刘女士\",styles[\"Normal\"]))\n",
    "    \n",
    "    # print photo-id\n",
    "    try:\n",
    "        id_0 = \"./photo-id/\" + df_shipList[n:n+1][u\"收件人\"].iloc[0].encode('utf-8') + \".jpg\"\n",
    "        im_0 = Image(id_0, 4*inch, 6*inch, kind='proportional')\n",
    "        idList.append(Paragraph(tracking,styles[\"Normal\"]))\n",
    "        idList.append(im_0)\n",
    "        idList.append(PageBreak())\n",
    "    except IOError:\n",
    "        try:\n",
    "            id_1 = \"./photo-id/\" + df_shipList[n:n+1][u\"收件人\"].iloc[0].encode('utf-8') + \"1.jpg\"\n",
    "            im_1 = Image(id_1, 4*inch, 4*inch, kind='proportional')\n",
    "            im_1True = True\n",
    "        except IOError:\n",
    "#            missingID.append(id_1)\n",
    "            im_1True = False\n",
    "#            idList.append(Paragraph(\"Photo ID not available\", styles[\"Normal\"]))\n",
    "            print id_1[11:-5] + '\\t' + \"正面\" + ' ' + \"身份证没有找到\"\n",
    "            missingN += 1\n",
    "            \n",
    "        if im_1True is True:\n",
    "            idList.append(Paragraph(tracking,styles[\"Normal\"]))\n",
    "            idList.append(im_1)\n",
    "            idList.append(Spacer(1,12))\n",
    "            try:\n",
    "                id_2 = \"./photo-id/\" + df_shipList[n:n+1][u\"收件人\"].iloc[0].encode('utf-8') + \"2.jpg\"\n",
    "                im_2 = Image(id_2, 4*inch, 4*inch, kind='proportional')\n",
    "                idList.append(im_2)\n",
    "                im_2True = True\n",
    "            except IOError:\n",
    "                im_2True = False\n",
    "                print id_1[11:-5] + '\\t' + \"背面\" + ' ' + \"身份证没有找到\"\n",
    "                missingN += 1\n",
    "            idList.append(PageBreak())\n",
    "print\n",
    "print \"一共%s个运单，其中%s个没有身份证\"%(n+1,missingN)\n",
    "print \"生成文件已经保存到 \" + cwd + \" 目录下面\"\n",
    "print \"文件名为 \" + outputPDF\n",
    "            \n",
    "print\n",
    "print \"PS:\"\n",
    "print \"请把缺失的身份证图片添加到\" + cwd + \"/photo-id 目录下面\"\n",
    "print \"如果正反面在同一张图片上，命名为 姓名.jpg\"\n",
    "print \"如果正反面分两张图片，命名为 姓名1.jpg 和 姓名2.jpg\"\n",
    "\n",
    "    \n",
    "\n",
    "c3.build(idList)\n",
    "#missingID"
   ]
  },
  {
   "cell_type": "code",
   "execution_count": null,
   "metadata": {
    "collapsed": true
   },
   "outputs": [],
   "source": []
  }
 ],
 "metadata": {
  "kernelspec": {
   "display_name": "Python 2",
   "language": "python",
   "name": "python2"
  },
  "language_info": {
   "codemirror_mode": {
    "name": "ipython",
    "version": 2
   },
   "file_extension": ".py",
   "mimetype": "text/x-python",
   "name": "python",
   "nbconvert_exporter": "python",
   "pygments_lexer": "ipython2",
   "version": "2.7.12"
  }
 },
 "nbformat": 4,
 "nbformat_minor": 0
}
